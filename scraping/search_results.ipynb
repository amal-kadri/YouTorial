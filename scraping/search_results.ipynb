{
 "cells": [
  {
   "cell_type": "code",
   "execution_count": null,
   "metadata": {},
   "outputs": [],
   "source": [
    "# -*- coding: utf-8 -*-\n",
    "\n",
    "# Sample Python code for youtube.search.list\n",
    "# See instructions for running these code samples locally:\n",
    "# https://developers.google.com/explorer-help/code-samples#python\n",
    "\n",
    "#test \n",
    "\n",
    "import os\n",
    "import googleapiclient.discovery\n",
    "\n",
    "BASE_DIR = '../scraping'\n",
    "KEY_PATH = os.path.join(BASE_DIR, \"api_keyPG.txt\")\n",
    "\n",
    "with open(KEY_PATH) as f:\n",
    "    api_key = f.readline()\n",
    "\n"
   ]
  },
  {
   "cell_type": "code",
   "execution_count": null,
   "metadata": {},
   "outputs": [],
   "source": [
    "\n",
    "\n",
    "def request_search_results(token=''):\n",
    "    '''requests 50 search results for a specified query using the Youtube Data API V3, returns a complex dictionary'''\n",
    "    # Disable OAuthlib's HTTPS verification when running locally.\n",
    "    # *DO NOT* leave this option enabled in production.\n",
    "    os.environ[\"OAUTHLIB_INSECURE_TRANSPORT\"] = \"1\"\n",
    "\n",
    "    api_service_name = \"youtube\"\n",
    "    api_version = \"v3\"\n",
    "    DEVELOPER_KEY = api_key\n",
    "\n",
    "    youtube = googleapiclient.discovery.build(\n",
    "        api_service_name, api_version, developerKey = DEVELOPER_KEY)\n",
    "\n",
    "    request = youtube.search().list(\n",
    "        part=\"snippet\",\n",
    "        maxResults=50,\n",
    "        topicId=\"/m/032tl | /m/01k8wb | /m/027x7n | /m/02wbm\",\n",
    "        pageToken=token,\n",
    "        q=\"how to | tutorial | recipe | step | lesson | guide | demo | DIY\",\n",
    "        type=\"video\",\n",
    "        videoCategoryId=\"26\",\n",
    "        regionCode = 'US',\n",
    "        location = \"37.0902, -95.7129\",\n",
    "        locationRadius = \"1000km\"\n",
    "    )\n",
    "    response = request.execute()\n",
    "\n",
    "    return response"
   ]
  },
  {
   "cell_type": "code",
   "execution_count": null,
   "metadata": {},
   "outputs": [],
   "source": [
    "def get_vid_ids(dict_list):\n",
    "    \n",
    "    id_list = []\n",
    "\n",
    "    for i in range(len(dict_list)):\n",
    "        vid_info = {\n",
    "        'videoID' : dict_list[i]['id']['videoId'],\n",
    "        'title' : dict_list[i]['snippet']['title']\n",
    "}\n",
    "        id_list.append(vid_info)\n",
    "    return id_list\n"
   ]
  },
  {
   "cell_type": "code",
   "execution_count": null,
   "metadata": {},
   "outputs": [],
   "source": [
    "def get_tutorial_url_list(loop_len=1,track=True):\n",
    "    '''Calls functions to request youtube search results as a list of video IDs and titles as a dictionary, with 50 IDs per iteration'''\n",
    "    page_token = ''\n",
    "    full_id_list = []\n",
    "    print(\"Number of results so far:\")\n",
    "    \n",
    "    for i in range(loop_len):\n",
    "        search_soup = request_search_results(page_token)\n",
    "        page_token= search_soup['nextPageToken']\n",
    "        vid_list = search_soup['items']\n",
    "        full_id_list += get_vid_ids(vid_list)\n",
    "        if track:\n",
    "            print(i*50 + 50)\n",
    "    return full_id_list"
   ]
  },
  {
   "cell_type": "code",
   "execution_count": null,
   "metadata": {},
   "outputs": [],
   "source": [
    "if __name__ == \"__main__\":\n",
    "    num_iterations = 2\n",
    "    full_vid_list = get_tutorial_url_list(num_iterations,track=True)\n",
    "    print(full_vid_list)\n"
   ]
  }
 ],
 "metadata": {
  "interpreter": {
   "hash": "aee8b7b246df8f9039afb4144a1f6fd8d2ca17a180786b69acc140d282b71a49"
  },
  "kernelspec": {
   "display_name": "Python 3.10.2 64-bit",
   "language": "python",
   "name": "python3"
  },
  "language_info": {
   "codemirror_mode": {
    "name": "ipython",
    "version": 3
   },
   "file_extension": ".py",
   "mimetype": "text/x-python",
   "name": "python",
   "nbconvert_exporter": "python",
   "pygments_lexer": "ipython3",
   "version": "3.10.2"
  },
  "orig_nbformat": 4
 },
 "nbformat": 4,
 "nbformat_minor": 2
}
