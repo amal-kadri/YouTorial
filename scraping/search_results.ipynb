{
 "cells": [
  {
   "cell_type": "code",
   "execution_count": 1,
   "metadata": {},
   "outputs": [],
   "source": [
    "# -*- coding: utf-8 -*-\n",
    "\n",
    "# Sample Python code for youtube.search.list\n",
    "# See instructions for running these code samples locally:\n",
    "# https://developers.google.com/explorer-help/code-samples#python\n",
    "\n",
    "#test \n",
    "\n",
    "import os\n",
    "import googleapiclient.discovery\n",
    "\n",
    "BASE_DIR = '../scraping'\n",
    "KEY_PATH = os.path.join(BASE_DIR, \"api_keyPG.txt\")\n",
    "\n",
    "with open(KEY_PATH) as f:\n",
    "    api_key = f.readline()\n",
    "\n"
   ]
  },
  {
   "cell_type": "code",
   "execution_count": 2,
   "metadata": {},
   "outputs": [],
   "source": [
    "\n",
    "\n",
    "def request_search_results(token):\n",
    "    # Disable OAuthlib's HTTPS verification when running locally.\n",
    "    # *DO NOT* leave this option enabled in production.\n",
    "    os.environ[\"OAUTHLIB_INSECURE_TRANSPORT\"] = \"1\"\n",
    "\n",
    "    api_service_name = \"youtube\"\n",
    "    api_version = \"v3\"\n",
    "    DEVELOPER_KEY = api_key\n",
    "\n",
    "    youtube = googleapiclient.discovery.build(\n",
    "        api_service_name, api_version, developerKey = DEVELOPER_KEY)\n",
    "\n",
    "    request = youtube.search().list(\n",
    "        part=\"snippet\",\n",
    "        maxResults=50,\n",
    "        topicId=\"/m/032tl | /m/01k8wb | /m/027x7n | /m/02wbm\",\n",
    "        pageToken=token,\n",
    "        q=\"how to | tutorial | recipe | step | lesson | guide | demo | DIY\",\n",
    "        type=\"video\",\n",
    "        videoCategoryId=\"26\",\n",
    "        regionCode = 'US',\n",
    "        location = \"37.0902, -95.7129\",\n",
    "        locationRadius = \"1000km\"\n",
    "    )\n",
    "    response = request.execute()\n",
    "\n",
    "    return response"
   ]
  },
  {
   "cell_type": "code",
   "execution_count": 3,
   "metadata": {},
   "outputs": [],
   "source": [
    "def get_vid_ids(dict_list):\n",
    "    \n",
    "    id_list = []\n",
    "\n",
    "    for i in range(len(dict_list)):\n",
    "        id_list.append(dict_list[i]['id']['videoId'])\n",
    "    return id_list\n"
   ]
  },
  {
   "cell_type": "code",
   "execution_count": 11,
   "metadata": {},
   "outputs": [],
   "source": [
    "def get_tutorial_url_list(loop_len=1,track=True):\n",
    "    '''Calls functions to request youtube search results as a list of video IDs, with 50 IDs per iteration'''\n",
    "    page_token = ''\n",
    "    full_id_list = []\n",
    "\n",
    "    for i in range(loop_len):\n",
    "        search_soup = request_search_results(page_token)\n",
    "        page_token= search_soup['nextPageToken']\n",
    "        vid_list = search_soup['items']\n",
    "        full_id_list += get_vid_ids(vid_list)\n",
    "        if track:\n",
    "            print(i*50 + 50)\n",
    "    return full_id_list"
   ]
  },
  {
   "cell_type": "code",
   "execution_count": 12,
   "metadata": {},
   "outputs": [
    {
     "name": "stdout",
     "output_type": "stream",
     "text": [
      "Number of results so far:\n",
      "50\n",
      "100\n",
      "['Lb8IvzIeEaA', '0sBsoMjbdXU', 'MSSFZyfZjWs', 'HgDzDVuZAkM', 'Zgx6S72QfjU', 'WFMmwXeTTvs', 'eO1lNi_Nt34', 'hoK86ao2C28', 'kE2RisA2mHY', 'E2nHfbzHDmY', 'rXtvTwP3D7M', 'kQ-u73ice8k', 'IdmnMhcA6dI', 'zztf2MkFA3o', '77UDwgod9YM', '8HQBABb6Jkg', '-QvZCIvXMjs', '4PIjy516KmM', 'IWFPSrFQZ_Y', 'Hr_iaurMi1o', 'gCKAxwxYeOo', 'yjX-M86BukY', 'UEFnwiTsZ2k', 'rGdG8HAbreA', 'vznln62cZew', 'cP6zhG3Evzs', 'lDbQsEyChgQ', 'MKIjM9dkpaE', 'jjtcbEaoGk0', 'a6F3x6nbBEo', 'MGcyzm0_6Ds', 'ytgEbr_KzNo', 'J83nEr7sg3c', 'yb8mIvNGbgQ', '1MOBOWqs_Fg', 'd_hxpdNbzTQ', 'akVg10eJLDU', 'zNvnHiQuthk', 'H8M-B9jTTls', 'ZfAQnG4LJhA', 'c8r0bq6mo0A', 'C13u670mSCk', 'il6li2GmjTM', '2S7JnqWpi_Q', 'UuPKuYV7T68', '3lEKpJI1dDQ', 'yHbklVj3D4s', 'K20PO9euz4I', 'zD0Py5umc5g', 'rj4hsAKoY1M', 'rj4hsAKoY1M', 'C13u670mSCk', 'ebGW1iBYYig', 'wOPdrzPl_-Q', 'RedGYJ50Gg4', 'MceP1MKdiXE', 'v_fIMU1k0lo', '2mEcnZH3JGk', 'DnVOzR3rmfU', 'JhE0fHr711U', 'l_v8GkUyfbI', 'Ju0V08I8xD8', 'MgNgdUf5WJU', 'nymsAePlmFg', 'Qen3eAtFPEY', 'TE1GDxQgD0k', 'MlzutHVrsmM', 'QujLRXrLkRI', 'glnb0YLvENE', 'MtnyxqLI5GE', 'wE2zVhTFrss', 'DVBlMoRGHBU', 'AEI4k_NZKVc', 'Asq7x3t0Cyo', 'PQh_h2qExWg', 'bZQdot6cs4Q', 'XO_MXX1XPIk', 'Wn4KL9NeEgA', '_0-7Hcu-2SY', 'LmP9iBYLnKE', 'WYJdIsf0Ckk', 'LLJ3T0jdaRE', 'G1g0Fm7G044', 'k2PBcgTUUlE', 'vIDHsK85JTA', 'B13E4BvRkj0', 'vMgBnNCIB9A', 'rAfXaZWOtoo', 'ZEp_X3mU-rE', 'I_p4dkZ3TpU', '8BzpBK2Za-k', 'AardVO28YCk', 'BU0PhSZI-rc', 'UOxfcxMbDvA', 'NZa6lJEtrDg', 'jVssNpBk37k', 'myQMTi466p0', '4-d6FovgMc8', 'Vkr-cDulR7A', 'cX7LV_nn8t8']\n"
     ]
    }
   ],
   "source": [
    "if __name__ == \"__main__\":\n",
    "    num_iterations = 2\n",
    "    print(\"Number of results so far:\")\n",
    "    full_id_list = get_tutorial_url_list(num_iterations,track=True)\n",
    "    print(full_id_list)"
   ]
  },
  {
   "cell_type": "code",
   "execution_count": null,
   "metadata": {},
   "outputs": [],
   "source": []
  }
 ],
 "metadata": {
  "interpreter": {
   "hash": "aee8b7b246df8f9039afb4144a1f6fd8d2ca17a180786b69acc140d282b71a49"
  },
  "kernelspec": {
   "display_name": "Python 3.10.2 64-bit",
   "language": "python",
   "name": "python3"
  },
  "language_info": {
   "codemirror_mode": {
    "name": "ipython",
    "version": 3
   },
   "file_extension": ".py",
   "mimetype": "text/x-python",
   "name": "python",
   "nbconvert_exporter": "python",
   "pygments_lexer": "ipython3",
   "version": "3.10.2"
  },
  "orig_nbformat": 4
 },
 "nbformat": 4,
 "nbformat_minor": 2
}
