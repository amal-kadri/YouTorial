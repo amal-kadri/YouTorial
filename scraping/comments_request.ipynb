{
 "cells": [
  {
   "cell_type": "code",
   "execution_count": 7,
   "metadata": {},
   "outputs": [],
   "source": [
    "# Sample Python code for youtube.commentThreads.list\n",
    "# See instructions for running these code samples locally:\n",
    "# https://developers.google.com/explorer-help/code-samples#python\n",
    "\n",
    "import os\n",
    "import googleapiclient.discovery\n",
    "import pandas as pd\n",
    "import json\n",
    "\n",
    "BASE_DIR = '../scraping'\n",
    "KEY_PATH = os.path.join(BASE_DIR, \"api_keyPG.txt\")\n",
    "\n",
    "with open(KEY_PATH) as f:\n",
    "    api_key = f.readline()"
   ]
  },
  {
   "cell_type": "code",
   "execution_count": 8,
   "metadata": {},
   "outputs": [],
   "source": [
    "sample_id = 'QuGCXXeJV5Y' ## change with variable later, just to make the code run\n",
    "def get_comments(video_id):\n",
    "    '''Uses the youtube v3 API to get the commentsThread:list object with 25 comments'''\n",
    "    # Disable OAuthlib's HTTPS verification when running locally.\n",
    "    # *DO NOT* leave this option enabled in production.\n",
    "    os.environ[\"OAUTHLIB_INSECURE_TRANSPORT\"] = \"1\"\n",
    "\n",
    "    api_service_name = \"youtube\"\n",
    "    api_version = \"v3\"\n",
    "    DEVELOPER_KEY = api_key\n",
    "\n",
    "    youtube = googleapiclient.discovery.build(\n",
    "        api_service_name, api_version, developerKey = DEVELOPER_KEY)\n",
    "\n",
    "    request = youtube.commentThreads().list(\n",
    "        part=\"snippet\",\n",
    "        maxResults=25,\n",
    "        order=\"relevance\",\n",
    "        pageToken=\"\",\n",
    "        videoId=video_id\n",
    "    )\n",
    "    response = request.execute()\n",
    "    return(response)\n",
    "\n"
   ]
  },
  {
   "cell_type": "code",
   "execution_count": 14,
   "metadata": {},
   "outputs": [],
   "source": [
    "def clean_comments(comments_dict):\n",
    "    \"\"\"Extracts comments from comments-threads dictionary and saves comments into a list of strings\"\"\"\n",
    "    comment_list = []\n",
    "\n",
    "    for i in range(len(items)):\n",
    "        comment_list += [\n",
    "            comments_dict[i]['snippet']['topLevelComment']['snippet']['textOriginal']\n",
    "        ]\n",
    "\n",
    "    return comment_list"
   ]
  },
  {
   "cell_type": "code",
   "execution_count": null,
   "metadata": {},
   "outputs": [],
   "source": [
    "if __name__ == \"__main__\":\n",
    "    items = get_comments(sample_id)['items']\n",
    "    clean_items = clean_comments(items)\n",
    "    df_items = pd.DataFrame(clean_items)\n",
    "    json_items = pd.DataFrame.to_json(items)\n",
    "\n",
    "    with open('comments.json', 'w') as outfile:\n",
    "        outfile.write(json_items)"
   ]
  },
  {
   "cell_type": "code",
   "execution_count": null,
   "metadata": {},
   "outputs": [],
   "source": [
    "#sample to see what the items look like, mess with this however you like, remove later\n",
    "print(items[0]['snippet']['topLevelComment']['snippet']['textOriginal'])\n",
    "print(len(clean_comments(items)))\n",
    "\n"
   ]
  },
  {
   "cell_type": "code",
   "execution_count": null,
   "metadata": {},
   "outputs": [],
   "source": []
  }
 ],
 "metadata": {
  "interpreter": {
   "hash": "aee8b7b246df8f9039afb4144a1f6fd8d2ca17a180786b69acc140d282b71a49"
  },
  "kernelspec": {
   "display_name": "Python 3.10.2 64-bit",
   "language": "python",
   "name": "python3"
  },
  "language_info": {
   "codemirror_mode": {
    "name": "ipython",
    "version": 3
   },
   "file_extension": ".py",
   "mimetype": "text/x-python",
   "name": "python",
   "nbconvert_exporter": "python",
   "pygments_lexer": "ipython3",
   "version": "3.10.2"
  },
  "orig_nbformat": 4
 },
 "nbformat": 4,
 "nbformat_minor": 2
}
