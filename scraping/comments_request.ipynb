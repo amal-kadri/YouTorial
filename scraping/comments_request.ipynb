{
 "cells": [
  {
   "cell_type": "code",
   "execution_count": 44,
   "metadata": {},
   "outputs": [],
   "source": [
    "# Sample Python code for youtube.commentThreads.list\n",
    "# See instructions for running these code samples locally:\n",
    "# https://developers.google.com/explorer-help/code-samples#python\n",
    "\n",
    "import os\n",
    "import googleapiclient.discovery\n",
    "\n",
    "BASE_DIR = '../scraping'\n",
    "KEY_PATH = os.path.join(BASE_DIR, \"api_keyPG.txt\")\n",
    "\n",
    "with open(KEY_PATH) as f:\n",
    "    api_key = f.readline()"
   ]
  },
  {
   "cell_type": "code",
   "execution_count": 45,
   "metadata": {},
   "outputs": [],
   "source": [
    "sample_id = 'QuGCXXeJV5Y' ## change with variable later, just to make the code run\n",
    "def get_comments(video_id):\n",
    "    '''Uses the youtube v3 API to get the commentsThread:list object with 25 comments'''\n",
    "    # Disable OAuthlib's HTTPS verification when running locally.\n",
    "    # *DO NOT* leave this option enabled in production.\n",
    "    os.environ[\"OAUTHLIB_INSECURE_TRANSPORT\"] = \"1\"\n",
    "\n",
    "    api_service_name = \"youtube\"\n",
    "    api_version = \"v3\"\n",
    "    DEVELOPER_KEY = api_key\n",
    "\n",
    "    youtube = googleapiclient.discovery.build(\n",
    "        api_service_name, api_version, developerKey = DEVELOPER_KEY)\n",
    "\n",
    "    request = youtube.commentThreads().list(\n",
    "        part=\"snippet\",\n",
    "        maxResults=25,\n",
    "        order=\"relevance\",\n",
    "        pageToken=\"\",\n",
    "        videoId=video_id\n",
    "    )\n",
    "    response = request.execute()\n",
    "    return(response)\n",
    "\n"
   ]
  },
  {
   "cell_type": "code",
   "execution_count": 46,
   "metadata": {},
   "outputs": [],
   "source": [
    "def clean_comments(comments_dict):\n",
    "    \"\"\"Extracts comments from comments-threads dictionary and saves comments into a list of strings\"\"\"\n",
    "    comment_list = []\n",
    "\n",
    "    for i in range(len(items)):\n",
    "        comment_list += [\n",
    "            comments_dict[i]['snippet']['topLevelComment']['snippet']['textOriginal']\n",
    "        ]\n",
    "\n",
    "    return comment_list"
   ]
  },
  {
   "cell_type": "code",
   "execution_count": 47,
   "metadata": {},
   "outputs": [
    {
     "name": "stdout",
     "output_type": "stream",
     "text": [
      "['He suffered abuse, was injured, was falsely acused, lost jobs and still needs to pay?! This is unbelievable. She is a monster.', \"What's most heart breaking in my opinion is that this case is only about defamation. It doesn't address the abuse Johnny had to put up with over the years.\", \"Notice how everyone who testifies in favor of Johnny, remembers his kindness, no matter how long back that happened? That's a life lesson right there. No matter how big you become, be kind, be nice. People remember.\", 'As an accountant, listening to him was a pleasure. He loves his profession.', 'Dude is a legend in accounting. Personally I do t care or totally understand accounting, but when he asked this man if he has any certifications the only thing I was thinking was “THIS MAN IS THE ONE WHO MAKES THE CERTIFICATIONS!” Lol. Eddy White, you’re a legend. And also probably more an even bigger target', \"You can almost hear the genuine sense of loyalty Johnny has earned from almost every witness, even those he's interacted with in strictly professional environments. It's a testament to the endearing way Johnny treats people despite being a mega star and reflects his humble nature.\", \"Amber is a shameless psychopath. I'm traumatized just listening to this trial, can't imagine how Johnny put up with it and it's no wonder he fell into addiction having to deal with her.\", \"She tried to extort money from him. That in it's self is a crime.\", 'This man is a perfect example of someone who is articulate, calm, composed and well-willing to give all the information that is needed. Nothing more and nothing less. 👏🏻 Bravo!', 'This woman is abominable, and has done a complete disservice to anyone who has been truly abused!', 'I really liked this witness. He’s the world’s most professional man.\\nAmber is cruel and so self absorbed it’s just disgusting. Johnny is human and has his struggles and sins just like the rest of us, but he’s got a kind heart and he’s sincere. He didn’t abuse her! She’s clearly the abuser in this relationship.', 'The fact Johnny donated 2 checks of 100 thousand dollars to the 2 charities amber claimed she donated to when she didn’t, just shows how much of a great person he is', 'So, let me get this straight, she basically got paid about  $1M for each MONTH that she was married. Wow. Where do I sign up? Never mind, having integrity is much more valuable than that.', 'She is absolutely horrible …15 months no way she deserves that kind of compensation', \"The absolute desperation AH's lawyers are trying to get this man to NOT say what she was trying to do is just baffling to me. Ridiculous!\", \"“You can close your eyes to the things you don't want to see, but you can't close your heart to the things you don't want to feel.” \\n- Johnny Depp\", 'This man astounds me . We have heard  so many poorly formulated questions and answers during this trial , not to mention the absolute nonsense heard from all and sundry every time we listen to TV or radio . To hear this highly educated well informed articulate man is wonderful. He could be speak on any subject and have me enthralled .', '\"She was asking for 4 million dollars-\"\\n\"Objection, hearsay.\"\\n\"This is documented. Ms. Heard\\'s council literally showed proof of this.\"\\n\"Objection he can\\'t know this.\"\\n\"He literally did the paperwork.\"\\n\"Objection this is ruining my case.\"', 'In the beginning of this trial I was shocked that the trial takes so long to prove something already obvious, but now I am happy the world gets to see how many horrible things this \"lady\" did with visibly no remose. Exponsing trial makes us happy <3', 'You can tell this man is completely disgusted and thought Amber Heard’s demands were outrageous\\n and terribly unfair.', \"I love how every witness from JD's side is a well-educated, ethical and detailed person. They do not even flinch against AH's lawyers.\", 'Everyone else see Johnny is clean and amber is a crazy abusive manipulative evil person?\\nYeah thats obvious? Cool thought so.', 'Her lawyers are so desperate and resorting to such low tactics this case is such an embarrassment to the criminal justice system.', 'I\\'m confused how is the lawyer objecting lack of foundation, when he is a fact Witness and was directly involved in the transactions, along with how \"this is out of the scope\". when this is exactly what he does?', 'A marriage of 15 months for 14 millions dollars? Wow, this shows that there is no love in this woman  who was with him only for money and reputation. Not only this, she did not even appreciate that, she wanted more: to destroy his reputation and make him lose more money. She’s not a human being….']\n"
     ]
    }
   ],
   "source": [
    "if __name__ == \"__main__\":\n",
    "    items = get_comments(sample_id)['items']\n",
    "    print(clean_comments(items))"
   ]
  },
  {
   "cell_type": "code",
   "execution_count": 48,
   "metadata": {},
   "outputs": [
    {
     "name": "stdout",
     "output_type": "stream",
     "text": [
      "He suffered abuse, was injured, was falsely acused, lost jobs and still needs to pay?! This is unbelievable. She is a monster.\n"
     ]
    }
   ],
   "source": [
    "#sample to see what the items look like, mess with this however you like, remove later\n",
    "print(items[0]['snippet']['topLevelComment']['snippet']['textOriginal'])"
   ]
  }
 ],
 "metadata": {
  "interpreter": {
   "hash": "aee8b7b246df8f9039afb4144a1f6fd8d2ca17a180786b69acc140d282b71a49"
  },
  "kernelspec": {
   "display_name": "Python 3.10.2 64-bit",
   "language": "python",
   "name": "python3"
  },
  "language_info": {
   "codemirror_mode": {
    "name": "ipython",
    "version": 3
   },
   "file_extension": ".py",
   "mimetype": "text/x-python",
   "name": "python",
   "nbconvert_exporter": "python",
   "pygments_lexer": "ipython3",
   "version": "3.10.2"
  },
  "orig_nbformat": 4
 },
 "nbformat": 4,
 "nbformat_minor": 2
}
